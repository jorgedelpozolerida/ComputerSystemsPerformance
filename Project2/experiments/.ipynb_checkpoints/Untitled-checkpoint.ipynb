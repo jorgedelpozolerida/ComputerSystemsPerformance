{
 "cells": [
  {
   "cell_type": "code",
   "execution_count": 5,
   "id": "e77b48e9-da6e-4297-b4aa-6087f5441ac3",
   "metadata": {},
   "outputs": [],
   "source": [
    "import pandas as pd\n",
    "import numpy as np\n",
    "import matplotlib.pyplot as plt\n",
    "import seaborn as sns\n",
    "import os\n",
    "\n",
    "PYTORCH_DIR = os.path.join(\".\", \"gpu\", \"pytorch\")"
   ]
  },
  {
   "cell_type": "code",
   "execution_count": 6,
   "id": "ec9433af-4106-4e48-8135-9637a1e703be",
   "metadata": {},
   "outputs": [
    {
     "name": "stdout",
     "output_type": "stream",
     "text": [
      ".\\gpu\\pytorch\\run-1_device-gpu_epoch-10_batchsize-128_framework-pytorch_dataset-CIFAR100_model-resnet101_ENERGY.csv\n",
      ".\\gpu\\pytorch\\run-1_device-gpu_epoch-10_batchsize-128_framework-pytorch_dataset-CIFAR100_model-resnet101_MODEL.csv\n",
      ".\\gpu\\pytorch\\run-1_device-gpu_epoch-10_batchsize-128_framework-pytorch_dataset-CIFAR100_model-resnet152_ENERGY.csv\n",
      ".\\gpu\\pytorch\\run-1_device-gpu_epoch-10_batchsize-128_framework-pytorch_dataset-CIFAR100_model-resnet152_MODEL.csv\n",
      ".\\gpu\\pytorch\\run-1_device-gpu_epoch-10_batchsize-128_framework-pytorch_dataset-CIFAR100_model-resnet50_ENERGY.csv\n",
      ".\\gpu\\pytorch\\run-1_device-gpu_epoch-10_batchsize-128_framework-pytorch_dataset-CIFAR100_model-resnet50_MODEL.csv\n",
      ".\\gpu\\pytorch\\run-1_device-gpu_epoch-10_batchsize-128_framework-pytorch_dataset-CIFAR10_model-resnet101_ENERGY.csv\n",
      ".\\gpu\\pytorch\\run-1_device-gpu_epoch-10_batchsize-128_framework-pytorch_dataset-CIFAR10_model-resnet101_MODEL.csv\n",
      ".\\gpu\\pytorch\\run-1_device-gpu_epoch-10_batchsize-128_framework-pytorch_dataset-CIFAR10_model-resnet152_ENERGY.csv\n",
      ".\\gpu\\pytorch\\run-1_device-gpu_epoch-10_batchsize-128_framework-pytorch_dataset-CIFAR10_model-resnet152_MODEL.csv\n",
      ".\\gpu\\pytorch\\run-1_device-gpu_epoch-10_batchsize-128_framework-pytorch_dataset-CIFAR10_model-resnet50_ENERGY.csv\n",
      ".\\gpu\\pytorch\\run-1_device-gpu_epoch-10_batchsize-128_framework-pytorch_dataset-CIFAR10_model-resnet50_MODEL.csv\n",
      ".\\gpu\\pytorch\\run-1_device-gpu_epoch-10_batchsize-128_framework-pytorch_dataset-SVHN_model-resnet101_ENERGY.csv\n",
      ".\\gpu\\pytorch\\run-1_device-gpu_epoch-10_batchsize-128_framework-pytorch_dataset-SVHN_model-resnet101_MODEL.csv\n",
      ".\\gpu\\pytorch\\run-1_device-gpu_epoch-10_batchsize-128_framework-pytorch_dataset-SVHN_model-resnet152_ENERGY.csv\n",
      ".\\gpu\\pytorch\\run-1_device-gpu_epoch-10_batchsize-128_framework-pytorch_dataset-SVHN_model-resnet152_MODEL.csv\n",
      ".\\gpu\\pytorch\\run-1_device-gpu_epoch-10_batchsize-128_framework-pytorch_dataset-SVHN_model-resnet50_ENERGY.csv\n",
      ".\\gpu\\pytorch\\run-1_device-gpu_epoch-10_batchsize-128_framework-pytorch_dataset-SVHN_model-resnet50_MODEL.csv\n",
      ".\\gpu\\pytorch\\run-2_device-gpu_epoch-10_batchsize-128_framework-pytorch_dataset-CIFAR100_model-resnet101_ENERGY.csv\n",
      ".\\gpu\\pytorch\\run-2_device-gpu_epoch-10_batchsize-128_framework-pytorch_dataset-CIFAR100_model-resnet101_MODEL.csv\n",
      ".\\gpu\\pytorch\\run-2_device-gpu_epoch-10_batchsize-128_framework-pytorch_dataset-CIFAR100_model-resnet152_ENERGY.csv\n",
      ".\\gpu\\pytorch\\run-2_device-gpu_epoch-10_batchsize-128_framework-pytorch_dataset-CIFAR100_model-resnet152_MODEL.csv\n",
      ".\\gpu\\pytorch\\run-2_device-gpu_epoch-10_batchsize-128_framework-pytorch_dataset-CIFAR100_model-resnet50_ENERGY.csv\n",
      ".\\gpu\\pytorch\\run-2_device-gpu_epoch-10_batchsize-128_framework-pytorch_dataset-CIFAR100_model-resnet50_MODEL.csv\n",
      ".\\gpu\\pytorch\\run-2_device-gpu_epoch-10_batchsize-128_framework-pytorch_dataset-CIFAR10_model-resnet101_ENERGY.csv\n",
      ".\\gpu\\pytorch\\run-2_device-gpu_epoch-10_batchsize-128_framework-pytorch_dataset-CIFAR10_model-resnet101_MODEL.csv\n",
      ".\\gpu\\pytorch\\run-2_device-gpu_epoch-10_batchsize-128_framework-pytorch_dataset-CIFAR10_model-resnet152_ENERGY.csv\n",
      ".\\gpu\\pytorch\\run-2_device-gpu_epoch-10_batchsize-128_framework-pytorch_dataset-CIFAR10_model-resnet152_MODEL.csv\n",
      ".\\gpu\\pytorch\\run-2_device-gpu_epoch-10_batchsize-128_framework-pytorch_dataset-CIFAR10_model-resnet50_ENERGY.csv\n",
      ".\\gpu\\pytorch\\run-2_device-gpu_epoch-10_batchsize-128_framework-pytorch_dataset-CIFAR10_model-resnet50_MODEL.csv\n",
      ".\\gpu\\pytorch\\run-2_device-gpu_epoch-10_batchsize-128_framework-pytorch_dataset-SVHN_model-resnet101_ENERGY.csv\n",
      ".\\gpu\\pytorch\\run-2_device-gpu_epoch-10_batchsize-128_framework-pytorch_dataset-SVHN_model-resnet101_MODEL.csv\n",
      ".\\gpu\\pytorch\\run-2_device-gpu_epoch-10_batchsize-128_framework-pytorch_dataset-SVHN_model-resnet152_ENERGY.csv\n",
      ".\\gpu\\pytorch\\run-2_device-gpu_epoch-10_batchsize-128_framework-pytorch_dataset-SVHN_model-resnet152_MODEL.csv\n",
      ".\\gpu\\pytorch\\run-2_device-gpu_epoch-10_batchsize-128_framework-pytorch_dataset-SVHN_model-resnet50_ENERGY.csv\n",
      ".\\gpu\\pytorch\\run-2_device-gpu_epoch-10_batchsize-128_framework-pytorch_dataset-SVHN_model-resnet50_MODEL.csv\n"
     ]
    }
   ],
   "source": [
    "def parse_data(dir_path):\n",
    "    df_list = []\n",
    "    \n",
    "    for path in os.listdir(dir_path):\n",
    "        if os.path.isfile(os.path.join(dir_path, path)) and path.endswith(\".csv\"):\n",
    "            sub_df = pd.read_csv(os.path.join(dir_path, path))\n",
    "            sub_df[\"run\"] = 1\n",
    "            sub_df[\"device\"] = \"gpu\"\n",
    "            sub_df[\"batch_size\"] = 0\n",
    "            sub_df[\"framework\"] = 0\n",
    "            sub_df[\"dataset\"] = 0\n",
    "            \n",
    "parse_data(PYTORCH_DIR)"
   ]
  },
  {
   "cell_type": "code",
   "execution_count": null,
   "id": "ffff9993-a35a-406b-8054-6497bbd2b6a7",
   "metadata": {},
   "outputs": [],
   "source": []
  }
 ],
 "metadata": {
  "kernelspec": {
   "display_name": "Python 3 (ipykernel)",
   "language": "python",
   "name": "python3"
  },
  "language_info": {
   "codemirror_mode": {
    "name": "ipython",
    "version": 3
   },
   "file_extension": ".py",
   "mimetype": "text/x-python",
   "name": "python",
   "nbconvert_exporter": "python",
   "pygments_lexer": "ipython3",
   "version": "3.10.5"
  }
 },
 "nbformat": 4,
 "nbformat_minor": 5
}
